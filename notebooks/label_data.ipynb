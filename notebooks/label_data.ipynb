{
 "cells": [
  {
   "cell_type": "code",
   "execution_count": 52,
   "id": "initial_id",
   "metadata": {
    "collapsed": true,
    "ExecuteTime": {
     "end_time": "2025-04-23T13:54:51.324852Z",
     "start_time": "2025-04-23T13:54:51.322430Z"
    }
   },
   "outputs": [],
   "source": [
    "import time\n",
    "import json\n",
    "import mistralai\n",
    "import pandas as pd\n",
    "from dotenv import load_dotenv"
   ]
  },
  {
   "cell_type": "code",
   "outputs": [
    {
     "data": {
      "text/plain": "True"
     },
     "execution_count": 53,
     "metadata": {},
     "output_type": "execute_result"
    }
   ],
   "source": [
    "load_dotenv()"
   ],
   "metadata": {
    "collapsed": false,
    "ExecuteTime": {
     "end_time": "2025-04-23T13:54:51.441223Z",
     "start_time": "2025-04-23T13:54:51.438132Z"
    }
   },
   "id": "91fe65d34f867058",
   "execution_count": 53
  },
  {
   "cell_type": "code",
   "outputs": [],
   "source": [
    "client = mistralai.Mistral(api_key=os.getenv('MISTRAL_API_KEY'))"
   ],
   "metadata": {
    "collapsed": false,
    "ExecuteTime": {
     "end_time": "2025-04-23T13:54:51.601023Z",
     "start_time": "2025-04-23T13:54:51.565038Z"
    }
   },
   "id": "5fdfc90b4029fa4b",
   "execution_count": 54
  },
  {
   "cell_type": "code",
   "outputs": [
    {
     "data": {
      "text/plain": "                                            Описание  Решение\n0  № 57 маршрут, на остановке Нурлы Жол в направл...      NaN\n1  14 м/а с 6:00-6:31 нету автобуса с Нурлы жол в...      NaN\n2  06:00-06:35 аралығында «Ақ-Жайық» ТД аялдамасы...      NaN\n3  №2,13,32, 49, 50,73 Балбала аялдамасы  Көктал ...      NaN\n4  № 18 бағдар , мем/нөмір  862 . Медицинский цен...      NaN",
      "text/html": "<div>\n<style scoped>\n    .dataframe tbody tr th:only-of-type {\n        vertical-align: middle;\n    }\n\n    .dataframe tbody tr th {\n        vertical-align: top;\n    }\n\n    .dataframe thead th {\n        text-align: right;\n    }\n</style>\n<table border=\"1\" class=\"dataframe\">\n  <thead>\n    <tr style=\"text-align: right;\">\n      <th></th>\n      <th>Описание</th>\n      <th>Решение</th>\n    </tr>\n  </thead>\n  <tbody>\n    <tr>\n      <th>0</th>\n      <td>№ 57 маршрут, на остановке Нурлы Жол в направл...</td>\n      <td>NaN</td>\n    </tr>\n    <tr>\n      <th>1</th>\n      <td>14 м/а с 6:00-6:31 нету автобуса с Нурлы жол в...</td>\n      <td>NaN</td>\n    </tr>\n    <tr>\n      <th>2</th>\n      <td>06:00-06:35 аралығында «Ақ-Жайық» ТД аялдамасы...</td>\n      <td>NaN</td>\n    </tr>\n    <tr>\n      <th>3</th>\n      <td>№2,13,32, 49, 50,73 Балбала аялдамасы  Көктал ...</td>\n      <td>NaN</td>\n    </tr>\n    <tr>\n      <th>4</th>\n      <td>№ 18 бағдар , мем/нөмір  862 . Медицинский цен...</td>\n      <td>NaN</td>\n    </tr>\n  </tbody>\n</table>\n</div>"
     },
     "execution_count": 55,
     "metadata": {},
     "output_type": "execute_result"
    }
   ],
   "source": [
    "df = pd.read_excel(\"../data/raw/AI_dataset.xlsx\")\n",
    "df = df[df['Описание'].notna()].copy()\n",
    "df.head()"
   ],
   "metadata": {
    "collapsed": false,
    "ExecuteTime": {
     "end_time": "2025-04-23T13:54:57.328360Z",
     "start_time": "2025-04-23T13:54:51.698099Z"
    }
   },
   "id": "16e8b399142c807",
   "execution_count": 55
  },
  {
   "cell_type": "code",
   "outputs": [
    {
     "data": {
      "text/plain": "1"
     },
     "execution_count": 59,
     "metadata": {},
     "output_type": "execute_result"
    }
   ],
   "source": [
    "def label_example(review: str):\n",
    "    time.sleep(1)  # rate limit\n",
    "    response = client.chat.complete(\n",
    "        model=\"mistral-large-latest\",\n",
    "        temperature=0,\n",
    "        response_format={\"type\": \"json_object\"},\n",
    "        messages=[\n",
    "            {\n",
    "                \"role\": \"system\",\n",
    "                \"content\": \"\"\"Your goal is to make sentiment analysis and label reviews about public transport\n",
    "                \\rThey can be either positive or negative.\n",
    "                \\rProvide classification result with in JSON format:\n",
    "                \\r{\"label\": <the label>}\n",
    "                ]r\"<the label>\" has to be INT type and 1 if review is positive and 0 if review is negative\n",
    "                \"\"\"\n",
    "            },\n",
    "            {\n",
    "                \"role\": \"user\",\n",
    "                \"content\": f\"Here is the review for you to classify: {review}\"\n",
    "            }\n",
    "        ]\n",
    "    )\n",
    "    label_json = response.choices[0].message.content\n",
    "    return json.loads(label_json)['label']\n",
    "\n",
    "\n",
    "# test\n",
    "label_example(\"всегда вовремя\")"
   ],
   "metadata": {
    "collapsed": false,
    "ExecuteTime": {
     "end_time": "2025-04-23T13:55:35.581475Z",
     "start_time": "2025-04-23T13:55:33.725135Z"
    }
   },
   "id": "851e351aa5865907",
   "execution_count": 59
  },
  {
   "cell_type": "code",
   "outputs": [],
   "source": [
    "df['label'] = df['Описание'].apply(label_example)"
   ],
   "metadata": {
    "collapsed": false,
    "ExecuteTime": {
     "end_time": "2025-04-23T14:11:06.079059Z",
     "start_time": "2025-04-23T14:04:44.791365Z"
    }
   },
   "id": "9d41aebc81ec8929",
   "execution_count": 62
  },
  {
   "cell_type": "code",
   "outputs": [],
   "source": [],
   "metadata": {
    "collapsed": false,
    "ExecuteTime": {
     "end_time": "2025-04-23T13:37:05.825712Z",
     "start_time": "2025-04-23T13:37:05.822758Z"
    }
   },
   "id": "265958a9ccfa4017",
   "execution_count": 49
  },
  {
   "cell_type": "code",
   "outputs": [],
   "source": [
    "df.to_csv(\"../data/interim/labeled_reviews.csv\", index=False)"
   ],
   "metadata": {
    "collapsed": false,
    "ExecuteTime": {
     "end_time": "2025-04-23T14:11:09.270870Z",
     "start_time": "2025-04-23T14:11:09.266175Z"
    }
   },
   "id": "184d14320e69992b",
   "execution_count": 63
  },
  {
   "cell_type": "code",
   "outputs": [],
   "source": [],
   "metadata": {
    "collapsed": false
   },
   "id": "deefb9ab09506e93"
  }
 ],
 "metadata": {
  "kernelspec": {
   "display_name": "Python 3",
   "language": "python",
   "name": "python3"
  },
  "language_info": {
   "codemirror_mode": {
    "name": "ipython",
    "version": 2
   },
   "file_extension": ".py",
   "mimetype": "text/x-python",
   "name": "python",
   "nbconvert_exporter": "python",
   "pygments_lexer": "ipython2",
   "version": "2.7.6"
  }
 },
 "nbformat": 4,
 "nbformat_minor": 5
}
