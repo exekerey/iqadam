{
 "cells": [
  {
   "cell_type": "code",
   "execution_count": 33,
   "id": "initial_id",
   "metadata": {
    "collapsed": true,
    "ExecuteTime": {
     "end_time": "2025-04-23T14:18:24.617905Z",
     "start_time": "2025-04-23T14:18:24.614416Z"
    }
   },
   "outputs": [
    {
     "data": {
      "text/plain": "'preprocessing reviews'"
     },
     "execution_count": 33,
     "metadata": {},
     "output_type": "execute_result"
    }
   ],
   "source": [
    "\"\"\"preprocessing reviews\"\"\""
   ]
  },
  {
   "cell_type": "code",
   "outputs": [
    {
     "name": "stderr",
     "output_type": "stream",
     "text": [
      "[nltk_data] Downloading package stopwords to\n",
      "[nltk_data]     /Users/danial/nltk_data...\n",
      "[nltk_data]   Package stopwords is already up-to-date!\n"
     ]
    }
   ],
   "source": [
    "import pandas as pd\n",
    "\n",
    "from utils import preprocess"
   ],
   "metadata": {
    "collapsed": false,
    "ExecuteTime": {
     "end_time": "2025-04-23T14:18:28.021428Z",
     "start_time": "2025-04-23T14:18:27.997963Z"
    }
   },
   "id": "11d8b58f1404744e",
   "execution_count": 34
  },
  {
   "cell_type": "code",
   "outputs": [],
   "source": [
    "\n",
    "df = pd.read_csv('../data/interim/labeled_reviews.csv')\n"
   ],
   "metadata": {
    "collapsed": false,
    "ExecuteTime": {
     "end_time": "2025-04-23T14:18:28.255610Z",
     "start_time": "2025-04-23T14:18:28.250883Z"
    }
   },
   "id": "85b6f67da42a25aa",
   "execution_count": 35
  },
  {
   "cell_type": "code",
   "outputs": [],
   "source": [
    "df['clean_text'] = df['Описание'].apply(preprocess)\n"
   ],
   "metadata": {
    "collapsed": false,
    "ExecuteTime": {
     "end_time": "2025-04-23T14:11:39.777649Z",
     "start_time": "2025-04-23T14:11:39.495914Z"
    }
   },
   "id": "e96f720168ce937d",
   "execution_count": 30
  },
  {
   "cell_type": "code",
   "outputs": [
    {
     "data": {
      "text/plain": "                                            Описание  Решение  label  \\\n0  № 57 маршрут, на остановке Нурлы Жол в направл...      NaN      0   \n1  14 м/а с 6:00-6:31 нету автобуса с Нурлы жол в...      NaN      0   \n2  06:00-06:35 аралығында «Ақ-Жайық» ТД аялдамасы...      NaN      0   \n3  №2,13,32, 49, 50,73 Балбала аялдамасы  Көктал ...      NaN      0   \n4  № 18 бағдар , мем/нөмір  862 . Медицинский цен...      NaN      0   \n\n                                          clean_text  \n0  маршрут остановка нурла жол направление город ...  \n1  600631 нету автобус нурла жол направление горо...  \n2  06000635 аралығында ақжайық аялдамас тұлпара с...  \n3  21332 5073 балбала аялдамас көкталый бағытың қ...  \n4  бағдар мемнөмір 862 медицинский центр аялдамас...  ",
      "text/html": "<div>\n<style scoped>\n    .dataframe tbody tr th:only-of-type {\n        vertical-align: middle;\n    }\n\n    .dataframe tbody tr th {\n        vertical-align: top;\n    }\n\n    .dataframe thead th {\n        text-align: right;\n    }\n</style>\n<table border=\"1\" class=\"dataframe\">\n  <thead>\n    <tr style=\"text-align: right;\">\n      <th></th>\n      <th>Описание</th>\n      <th>Решение</th>\n      <th>label</th>\n      <th>clean_text</th>\n    </tr>\n  </thead>\n  <tbody>\n    <tr>\n      <th>0</th>\n      <td>№ 57 маршрут, на остановке Нурлы Жол в направл...</td>\n      <td>NaN</td>\n      <td>0</td>\n      <td>маршрут остановка нурла жол направление город ...</td>\n    </tr>\n    <tr>\n      <th>1</th>\n      <td>14 м/а с 6:00-6:31 нету автобуса с Нурлы жол в...</td>\n      <td>NaN</td>\n      <td>0</td>\n      <td>600631 нету автобус нурла жол направление горо...</td>\n    </tr>\n    <tr>\n      <th>2</th>\n      <td>06:00-06:35 аралығында «Ақ-Жайық» ТД аялдамасы...</td>\n      <td>NaN</td>\n      <td>0</td>\n      <td>06000635 аралығында ақжайық аялдамас тұлпара с...</td>\n    </tr>\n    <tr>\n      <th>3</th>\n      <td>№2,13,32, 49, 50,73 Балбала аялдамасы  Көктал ...</td>\n      <td>NaN</td>\n      <td>0</td>\n      <td>21332 5073 балбала аялдамас көкталый бағытың қ...</td>\n    </tr>\n    <tr>\n      <th>4</th>\n      <td>№ 18 бағдар , мем/нөмір  862 . Медицинский цен...</td>\n      <td>NaN</td>\n      <td>0</td>\n      <td>бағдар мемнөмір 862 медицинский центр аялдамас...</td>\n    </tr>\n  </tbody>\n</table>\n</div>"
     },
     "execution_count": 31,
     "metadata": {},
     "output_type": "execute_result"
    }
   ],
   "source": [
    "df.head()"
   ],
   "metadata": {
    "collapsed": false,
    "ExecuteTime": {
     "end_time": "2025-04-23T14:11:39.781547Z",
     "start_time": "2025-04-23T14:11:39.778427Z"
    }
   },
   "id": "d00990c9816f0f1f",
   "execution_count": 31
  },
  {
   "cell_type": "code",
   "outputs": [],
   "source": [
    "df.to_csv('../data/interim/labeled_cleaned_data.csv')"
   ],
   "metadata": {
    "collapsed": false,
    "ExecuteTime": {
     "end_time": "2025-04-23T14:11:39.784908Z",
     "start_time": "2025-04-23T14:11:39.781981Z"
    }
   },
   "id": "95f3b8a0af8a071a",
   "execution_count": 32
  },
  {
   "cell_type": "code",
   "outputs": [],
   "source": [],
   "metadata": {
    "collapsed": false
   },
   "id": "211b66d065a9e114"
  }
 ],
 "metadata": {
  "kernelspec": {
   "display_name": "Python 3",
   "language": "python",
   "name": "python3"
  },
  "language_info": {
   "codemirror_mode": {
    "name": "ipython",
    "version": 2
   },
   "file_extension": ".py",
   "mimetype": "text/x-python",
   "name": "python",
   "nbconvert_exporter": "python",
   "pygments_lexer": "ipython2",
   "version": "2.7.6"
  }
 },
 "nbformat": 4,
 "nbformat_minor": 5
}
